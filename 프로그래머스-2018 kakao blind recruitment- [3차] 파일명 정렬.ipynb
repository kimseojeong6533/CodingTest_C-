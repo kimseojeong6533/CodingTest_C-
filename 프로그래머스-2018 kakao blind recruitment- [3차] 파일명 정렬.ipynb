{
 "cells": [
  {
   "cell_type": "code",
   "execution_count": 1,
   "metadata": {},
   "outputs": [],
   "source": [
    "import re"
   ]
  },
  {
   "cell_type": "code",
   "execution_count": null,
   "metadata": {},
   "outputs": [],
   "source": []
  },
  {
   "cell_type": "code",
   "execution_count": 79,
   "metadata": {},
   "outputs": [
    {
     "data": {
      "text/plain": [
       "[('IMG01.GIF', 'IMG'),\n",
       " ('img12.png', 'img'),\n",
       " ('img10.png', 'img'),\n",
       " ('img02.png', 'img'),\n",
       " ('img1.png', 'img'),\n",
       " ('img2.JPG', 'img')]"
      ]
     },
     "execution_count": 79,
     "metadata": {},
     "output_type": "execute_result"
    }
   ],
   "source": [
    "import re\n",
    "def solution(files):\n",
    "    answer = []\n",
    "    \n",
    "    p_h=re.compile('[^0-9]+')\n",
    "    p_n=re.compile('[0-9]+')\n",
    "\n",
    "    filt=[]\n",
    "    \n",
    "    # HEAD, NUMBER, TAIL부분으로 나누기\n",
    "    for i in files:\n",
    "        h=p_h.search(i)\n",
    "        n=p_n.search(i)\n",
    "\n",
    "        head=i[:h.end()]\n",
    "        num=i[h.end():n.end()]\n",
    "        tail=i[n.end():]\n",
    "\n",
    "        filt.append([head,num,tail])\n",
    "\n",
    "    # 조건대로 정렬\n",
    "    filt=sorted(filt, key=lambda x: (x[0].lower(), int(x[1])))  \n",
    "    \n",
    "    for i in filt:\n",
    "        i=''.join(i)\n",
    "        answer.append(i)    \n",
    "    \n",
    "    return answer"
   ]
  }
 ],
 "metadata": {
  "kernelspec": {
   "display_name": "Python 3",
   "language": "python",
   "name": "python3"
  },
  "language_info": {
   "codemirror_mode": {
    "name": "ipython",
    "version": 3
   },
   "file_extension": ".py",
   "mimetype": "text/x-python",
   "name": "python",
   "nbconvert_exporter": "python",
   "pygments_lexer": "ipython3",
   "version": "3.7.6"
  }
 },
 "nbformat": 4,
 "nbformat_minor": 4
}
